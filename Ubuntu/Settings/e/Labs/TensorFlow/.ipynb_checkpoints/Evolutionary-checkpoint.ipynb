{
 "cells": [
  {
   "cell_type": "code",
   "execution_count": 1,
   "metadata": {},
   "outputs": [],
   "source": [
    "import random"
   ]
  },
  {
   "cell_type": "code",
   "execution_count": 5,
   "metadata": {},
   "outputs": [],
   "source": [
    "list_of_items = [(1, 4), (12, 4), (23, 1), (24, 12), (3, 4), (12, 3), (13, 12), (1, 3), (2, 4), (7, 12), (6, 8),\n",
    "                 (9, 15), (4, 11), (2, 5), (11, 9)]\n",
    "\n",
    "population_1 = []\n",
    "\n",
    "for i in range(1000):\n",
    "    c = []\n",
    "    y = 0\n",
    "    while y<50:\n",
    "        item = random.choice(list_of_items)\n",
    "        if item not in c:\n",
    "            c.append(item)\n",
    "            for x in c:\n",
    "                y += x[1]\n",
    " \n",
    "    y = 0\n",
    "    for x in c:\n",
    "        y += x[1]\n",
    "    if y > 50:\n",
    "        c.pop()\n",
    "        \n",
    "    population_1.append(c) "
   ]
  },
  {
   "cell_type": "code",
   "execution_count": 6,
   "metadata": {},
   "outputs": [],
   "source": [
    "values = []\n",
    "for i in population_1:\n",
    "    val_sum = 0\n",
    "    for a in i:\n",
    "        val_sum += a[0]\n",
    "    values.append(val_sum) \n",
    "\n",
    "population_1_with_values = list(zip(values, population_1))"
   ]
  },
  {
   "cell_type": "code",
   "execution_count": 7,
   "metadata": {},
   "outputs": [],
   "source": [
    "sorted_population_1_with_values = sorted(population_1_with_values, reverse=True)"
   ]
  },
  {
   "cell_type": "code",
   "execution_count": 8,
   "metadata": {},
   "outputs": [],
   "source": [
    "def evolution (previous_generation, list2):\n",
    "    \n",
    "    list1 = []\n",
    "    for i in range (400):\n",
    "        list1.append(previous_generation[i])\n",
    "    \n",
    "    gametes = []\n",
    "    for k in range(2):\n",
    "        \n",
    "        for i in list1:\n",
    "            gamete = []\n",
    "            random.shuffle(i[1])\n",
    "            gamete.extend(i[1][:3])\n",
    "    \n",
    "            if random.randint(0,2) == 1:\n",
    "                gene = random.choice(list2)\n",
    "                if gene not in gamete:\n",
    "                    gamete.append(gene)\n",
    "            volum = 0\n",
    "            for i in gamete:\n",
    "                volum += i[1]\n",
    "            if volum <= 50:\n",
    "                gametes.append(gamete)\n",
    "        \n",
    "    random.shuffle(gametes)\n",
    "    for i in list1:\n",
    "        gamete = []\n",
    "        random.shuffle(i[1])\n",
    "        gamete.extend(i[1][:3])\n",
    "    \n",
    "        if random.randint(0,2) == 1:\n",
    "            \n",
    "            gene = random.choice(list2)\n",
    "            if gene not in gamete:\n",
    "                 gamete.append(gene)\n",
    "        volum = 0\n",
    "        for i in gamete:\n",
    "            volum += i[1]\n",
    "        if volum <= 50:\n",
    "            gametes.append(gamete)\n",
    "        \n",
    "    random.shuffle(gametes)\n",
    "    \n",
    "    offsprings = []\n",
    "    for i in range(len(gametes)-1):\n",
    "        offspring = []\n",
    "        offspring = list(set(gametes[i] + gametes[i+1]))\n",
    "        val = 0\n",
    "        for i in offspring:\n",
    "            val += i[1]\n",
    "        if val <= 50:\n",
    "            offsprings.append(offspring)        \n",
    "            \n",
    "    list_of_offsprings_values = []\n",
    "    for i in offsprings:\n",
    "        values_value = 0\n",
    "        for j in i:\n",
    "            values_value += j[0]\n",
    "        list_of_offsprings_values.append(values_value)\n",
    "    \n",
    "    \n",
    "    offsprings_with_values = list(zip(list_of_offsprings_values, offsprings))\n",
    "    sorted_offsprings_with_values = sorted(offsprings_with_values, reverse=True)  \n",
    "    return sorted_offsprings_with_values"
   ]
  },
  {
   "cell_type": "code",
   "execution_count": 11,
   "metadata": {},
   "outputs": [],
   "source": [
    "generation_1 = evolution(sorted_population_1_with_values, list_of_items)"
   ]
  },
  {
   "cell_type": "code",
   "execution_count": 12,
   "metadata": {},
   "outputs": [
    {
     "data": {
      "text/plain": [
       "(101, [(13, 12), (6, 8), (11, 9), (23, 1), (12, 4), (24, 12), (12, 3)])"
      ]
     },
     "execution_count": 12,
     "metadata": {},
     "output_type": "execute_result"
    }
   ],
   "source": [
    "generation_1[0]"
   ]
  },
  {
   "cell_type": "code",
   "execution_count": 13,
   "metadata": {},
   "outputs": [
    {
     "data": {
      "text/plain": [
       "(98, [(13, 12), (11, 9), (23, 1), (12, 4), (24, 12), (3, 4), (12, 3)])"
      ]
     },
     "execution_count": 13,
     "metadata": {},
     "output_type": "execute_result"
    }
   ],
   "source": [
    "generation_2 = evolution(generation_1, list_of_items)\n",
    "generation_2[0]"
   ]
  },
  {
   "cell_type": "code",
   "execution_count": 14,
   "metadata": {},
   "outputs": [
    {
     "data": {
      "text/plain": [
       "(101, [(13, 12), (6, 8), (11, 9), (24, 12), (12, 4), (23, 1), (12, 3)])"
      ]
     },
     "execution_count": 14,
     "metadata": {},
     "output_type": "execute_result"
    }
   ],
   "source": [
    "generation_3 = evolution(generation_2, list_of_items)\n",
    "generation_3[0]"
   ]
  }
 ],
 "metadata": {
  "kernelspec": {
   "display_name": "Python 3",
   "language": "python",
   "name": "python3"
  },
  "language_info": {
   "codemirror_mode": {
    "name": "ipython",
    "version": 3
   },
   "file_extension": ".py",
   "mimetype": "text/x-python",
   "name": "python",
   "nbconvert_exporter": "python",
   "pygments_lexer": "ipython3",
   "version": "3.7.4"
  }
 },
 "nbformat": 4,
 "nbformat_minor": 4
}
